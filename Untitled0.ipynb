{
  "nbformat": 4,
  "nbformat_minor": 0,
  "metadata": {
    "colab": {
      "provenance": [],
      "authorship_tag": "ABX9TyMdjANp4tWUS9LrFL4/wjru",
      "include_colab_link": true
    },
    "kernelspec": {
      "name": "python3",
      "display_name": "Python 3"
    },
    "language_info": {
      "name": "python"
    },
    "accelerator": "GPU"
  },
  "cells": [
    {
      "cell_type": "markdown",
      "metadata": {
        "id": "view-in-github",
        "colab_type": "text"
      },
      "source": [
        "<a href=\"https://colab.research.google.com/github/RomichTEST/ds_learning/blob/main/Untitled0.ipynb\" target=\"_parent\"><img src=\"https://colab.research.google.com/assets/colab-badge.svg\" alt=\"Open In Colab\"/></a>"
      ]
    },
    {
      "cell_type": "code",
      "execution_count": 1,
      "metadata": {
        "id": "IAHIQrXIxVum"
      },
      "outputs": [],
      "source": [
        "import torch\n"
      ]
    },
    {
      "cell_type": "code",
      "source": [
        "torch.zeros([3,4])"
      ],
      "metadata": {
        "colab": {
          "base_uri": "https://localhost:8080/"
        },
        "id": "eUeafRUFxeLo",
        "outputId": "f8a4c143-933e-41d6-93a0-b1e0fc6fcfc2"
      },
      "execution_count": 2,
      "outputs": [
        {
          "output_type": "execute_result",
          "data": {
            "text/plain": [
              "tensor([[0., 0., 0., 0.],\n",
              "        [0., 0., 0., 0.],\n",
              "        [0., 0., 0., 0.]])"
            ]
          },
          "metadata": {},
          "execution_count": 2
        }
      ]
    },
    {
      "cell_type": "code",
      "source": [
        "torch.ones([3,4,3])"
      ],
      "metadata": {
        "colab": {
          "base_uri": "https://localhost:8080/"
        },
        "id": "FwI-LZA5FSPC",
        "outputId": "8404a040-185c-4789-d555-ee768d609409"
      },
      "execution_count": 3,
      "outputs": [
        {
          "output_type": "execute_result",
          "data": {
            "text/plain": [
              "tensor([[[1., 1., 1.],\n",
              "         [1., 1., 1.],\n",
              "         [1., 1., 1.],\n",
              "         [1., 1., 1.]],\n",
              "\n",
              "        [[1., 1., 1.],\n",
              "         [1., 1., 1.],\n",
              "         [1., 1., 1.],\n",
              "         [1., 1., 1.]],\n",
              "\n",
              "        [[1., 1., 1.],\n",
              "         [1., 1., 1.],\n",
              "         [1., 1., 1.],\n",
              "         [1., 1., 1.]]])"
            ]
          },
          "metadata": {},
          "execution_count": 3
        }
      ]
    },
    {
      "cell_type": "code",
      "source": [
        "torch.Tensor([[1,2,3,4],\n",
        "             [5,6,7,8],\n",
        "             [9,10,11,12]]\n",
        "             )"
      ],
      "metadata": {
        "colab": {
          "base_uri": "https://localhost:8080/"
        },
        "id": "qMis-CwTFb-t",
        "outputId": "9899cd75-8d9c-4919-f019-958bcf060ce0"
      },
      "execution_count": 4,
      "outputs": [
        {
          "output_type": "execute_result",
          "data": {
            "text/plain": [
              "tensor([[ 1.,  2.,  3.,  4.],\n",
              "        [ 5.,  6.,  7.,  8.],\n",
              "        [ 9., 10., 11., 12.]])"
            ]
          },
          "metadata": {},
          "execution_count": 4
        }
      ]
    },
    {
      "cell_type": "code",
      "source": [
        "x = torch.Tensor([[1,2,3,4],\n",
        "             [5,6,7,8],\n",
        "             [9,10,11,12]]\n",
        "             )"
      ],
      "metadata": {
        "id": "SgSHJZcKFnaU"
      },
      "execution_count": 5,
      "outputs": []
    },
    {
      "cell_type": "code",
      "source": [
        "x.size()"
      ],
      "metadata": {
        "colab": {
          "base_uri": "https://localhost:8080/"
        },
        "id": "pJWfbBRMF6rq",
        "outputId": "794ceabc-5b56-4ab4-bc3c-df86f5c726a4"
      },
      "execution_count": 6,
      "outputs": [
        {
          "output_type": "execute_result",
          "data": {
            "text/plain": [
              "torch.Size([3, 4])"
            ]
          },
          "metadata": {},
          "execution_count": 6
        }
      ]
    },
    {
      "cell_type": "code",
      "source": [
        "x.shape"
      ],
      "metadata": {
        "colab": {
          "base_uri": "https://localhost:8080/"
        },
        "id": "z_CqMNrBF7v5",
        "outputId": "f212718e-1d57-4736-c817-857c23ff0cb1"
      },
      "execution_count": 7,
      "outputs": [
        {
          "output_type": "execute_result",
          "data": {
            "text/plain": [
              "torch.Size([3, 4])"
            ]
          },
          "metadata": {},
          "execution_count": 7
        }
      ]
    },
    {
      "cell_type": "code",
      "source": [
        "x+10"
      ],
      "metadata": {
        "colab": {
          "base_uri": "https://localhost:8080/"
        },
        "id": "p3XZ_PBMF8tt",
        "outputId": "5c571cec-45f9-4052-b55d-ee20c211fd19"
      },
      "execution_count": 8,
      "outputs": [
        {
          "output_type": "execute_result",
          "data": {
            "text/plain": [
              "tensor([[11., 12., 13., 14.],\n",
              "        [15., 16., 17., 18.],\n",
              "        [19., 20., 21., 22.]])"
            ]
          },
          "metadata": {},
          "execution_count": 8
        }
      ]
    },
    {
      "cell_type": "code",
      "source": [
        "x**2"
      ],
      "metadata": {
        "colab": {
          "base_uri": "https://localhost:8080/"
        },
        "id": "19wmRy5wGNbP",
        "outputId": "4c27285c-80c1-4fbe-f868-7ca717782e87"
      },
      "execution_count": 9,
      "outputs": [
        {
          "output_type": "execute_result",
          "data": {
            "text/plain": [
              "tensor([[  1.,   4.,   9.,  16.],\n",
              "        [ 25.,  36.,  49.,  64.],\n",
              "        [ 81., 100., 121., 144.]])"
            ]
          },
          "metadata": {},
          "execution_count": 9
        }
      ]
    },
    {
      "cell_type": "code",
      "source": [
        "y = torch.Tensor([[12,11,10,9],\n",
        "                  [8,7,6,5],\n",
        "                  [4,3,2,1]\n",
        "                  ])"
      ],
      "metadata": {
        "id": "cE_FL-maGOI2"
      },
      "execution_count": 10,
      "outputs": []
    },
    {
      "cell_type": "code",
      "source": [
        "x+y"
      ],
      "metadata": {
        "colab": {
          "base_uri": "https://localhost:8080/"
        },
        "id": "KjmzLN3hGZb7",
        "outputId": "c9bdc898-ff7c-43ce-f150-f7d1f10b91c9"
      },
      "execution_count": 11,
      "outputs": [
        {
          "output_type": "execute_result",
          "data": {
            "text/plain": [
              "tensor([[13., 13., 13., 13.],\n",
              "        [13., 13., 13., 13.],\n",
              "        [13., 13., 13., 13.]])"
            ]
          },
          "metadata": {},
          "execution_count": 11
        }
      ]
    },
    {
      "cell_type": "code",
      "source": [
        "x*y"
      ],
      "metadata": {
        "colab": {
          "base_uri": "https://localhost:8080/"
        },
        "id": "4uz3TaRiGbII",
        "outputId": "5d34ec61-c2fd-4185-9be6-f3ae2a26bfab"
      },
      "execution_count": 12,
      "outputs": [
        {
          "output_type": "execute_result",
          "data": {
            "text/plain": [
              "tensor([[12., 22., 30., 36.],\n",
              "        [40., 42., 42., 40.],\n",
              "        [36., 30., 22., 12.]])"
            ]
          },
          "metadata": {},
          "execution_count": 12
        }
      ]
    },
    {
      "cell_type": "code",
      "source": [
        "x/y"
      ],
      "metadata": {
        "colab": {
          "base_uri": "https://localhost:8080/"
        },
        "id": "SgAg7HbeGcXe",
        "outputId": "761767a1-a4e5-422c-f346-78ac20b05833"
      },
      "execution_count": 13,
      "outputs": [
        {
          "output_type": "execute_result",
          "data": {
            "text/plain": [
              "tensor([[ 0.0833,  0.1818,  0.3000,  0.4444],\n",
              "        [ 0.6250,  0.8571,  1.1667,  1.6000],\n",
              "        [ 2.2500,  3.3333,  5.5000, 12.0000]])"
            ]
          },
          "metadata": {},
          "execution_count": 13
        }
      ]
    },
    {
      "cell_type": "code",
      "source": [
        "x>3"
      ],
      "metadata": {
        "colab": {
          "base_uri": "https://localhost:8080/"
        },
        "id": "ABy9wruGGeX4",
        "outputId": "7af37e3f-8976-4051-9849-30b148b96970"
      },
      "execution_count": 14,
      "outputs": [
        {
          "output_type": "execute_result",
          "data": {
            "text/plain": [
              "tensor([[False, False, False,  True],\n",
              "        [ True,  True,  True,  True],\n",
              "        [ True,  True,  True,  True]])"
            ]
          },
          "metadata": {},
          "execution_count": 14
        }
      ]
    },
    {
      "cell_type": "code",
      "source": [
        "mask = x>3"
      ],
      "metadata": {
        "id": "gl2jFZKlOOPb"
      },
      "execution_count": 15,
      "outputs": []
    },
    {
      "cell_type": "code",
      "source": [
        "x[mask]"
      ],
      "metadata": {
        "colab": {
          "base_uri": "https://localhost:8080/"
        },
        "id": "BlB7fQ1_OUtu",
        "outputId": "8cb02b29-e025-4d1f-b0f9-83e5cfd96de4"
      },
      "execution_count": 16,
      "outputs": [
        {
          "output_type": "execute_result",
          "data": {
            "text/plain": [
              "tensor([ 4.,  5.,  6.,  7.,  8.,  9., 10., 11., 12.])"
            ]
          },
          "metadata": {},
          "execution_count": 16
        }
      ]
    },
    {
      "cell_type": "code",
      "source": [
        "x = torch.rand([2,3])\n",
        "x"
      ],
      "metadata": {
        "colab": {
          "base_uri": "https://localhost:8080/"
        },
        "id": "ZIHUgek2OVeA",
        "outputId": "6a2b529b-d32a-4592-a436-74e5b853cd0d"
      },
      "execution_count": 17,
      "outputs": [
        {
          "output_type": "execute_result",
          "data": {
            "text/plain": [
              "tensor([[0.0431, 0.6190, 0.4379],\n",
              "        [0.5753, 0.6614, 0.1997]])"
            ]
          },
          "metadata": {},
          "execution_count": 17
        }
      ]
    },
    {
      "cell_type": "code",
      "source": [
        "torch.cuda.is_available()"
      ],
      "metadata": {
        "colab": {
          "base_uri": "https://localhost:8080/"
        },
        "id": "vFKTdD3pjo9Z",
        "outputId": "c49787c0-e78f-4f47-e73a-89b112e88af8"
      },
      "execution_count": 18,
      "outputs": [
        {
          "output_type": "execute_result",
          "data": {
            "text/plain": [
              "True"
            ]
          },
          "metadata": {},
          "execution_count": 18
        }
      ]
    },
    {
      "cell_type": "code",
      "source": [
        "torch.device('cuda:0')"
      ],
      "metadata": {
        "colab": {
          "base_uri": "https://localhost:8080/"
        },
        "id": "aDCMBRGyjsme",
        "outputId": "49e89afe-322c-4563-a184-186e0f93d2b8"
      },
      "execution_count": 19,
      "outputs": [
        {
          "output_type": "execute_result",
          "data": {
            "text/plain": [
              "device(type='cuda', index=0)"
            ]
          },
          "metadata": {},
          "execution_count": 19
        }
      ]
    },
    {
      "cell_type": "code",
      "source": [
        "device = torch.device('cuda:0' if torch.cuda.is_available() else 'cpu')"
      ],
      "metadata": {
        "id": "-uanayV_ki3n"
      },
      "execution_count": 20,
      "outputs": []
    },
    {
      "cell_type": "code",
      "source": [
        "x_cuda = x.to(device)"
      ],
      "metadata": {
        "id": "wH8vHgIXkEiN"
      },
      "execution_count": 21,
      "outputs": []
    },
    {
      "cell_type": "code",
      "source": [
        "w = torch.tensor( [[1.,2.],[4.,5.]], requires_grad=True)\n",
        "\n",
        "function = 10 * torch.log( ( w + 1. ) ).sum()\n",
        "\n",
        "function.backward()\n",
        "\n",
        "print(w-w.grad)"
      ],
      "metadata": {
        "colab": {
          "base_uri": "https://localhost:8080/"
        },
        "id": "_RIkcCYXkgpg",
        "outputId": "616b2270-1a60-46fd-fafe-408bb9120c5e"
      },
      "execution_count": 22,
      "outputs": [
        {
          "output_type": "stream",
          "name": "stdout",
          "text": [
            "tensor([[-4.0000, -1.3333],\n",
            "        [ 2.0000,  3.3333]], grad_fn=<SubBackward0>)\n"
          ]
        }
      ]
    },
    {
      "cell_type": "code",
      "source": [
        "import torch\n",
        "\n",
        "w = torch.tensor([[5., 10.], [1., 2.]], requires_grad=True)\n",
        "alpha = 0.001\n",
        "\n",
        "for _ in range(500):\n",
        "    # critical: calculate the function inside the loop\n",
        "    function = (w + 7).log().log().prod()\n",
        "    function.backward()\n",
        "    w.data -=  alpha * w.grad\n",
        "    w.data.zero_()\n",
        "\n",
        "print(w) # Код для самопроверки, не забудьте закомментировать перед"
      ],
      "metadata": {
        "colab": {
          "base_uri": "https://localhost:8080/"
        },
        "id": "AaAANiQFb-D6",
        "outputId": "49d30d46-e5e1-43fa-b704-6075f60f8b4f"
      },
      "execution_count": 24,
      "outputs": [
        {
          "output_type": "stream",
          "name": "stdout",
          "text": [
            "tensor([[0., 0.],\n",
            "        [0., 0.]], requires_grad=True)\n"
          ]
        }
      ]
    }
  ]
}